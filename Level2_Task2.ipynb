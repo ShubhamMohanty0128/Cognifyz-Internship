{
 "cells": [
  {
   "cell_type": "code",
   "execution_count": 5,
   "id": "ec0c13ed-e7dd-4bee-93c7-8726fe355dd5",
   "metadata": {},
   "outputs": [],
   "source": [
    "import numpy as np \n",
    "import pandas as pd\n",
    "import matplotlib.pyplot as plt #visualizing data \n",
    "%matplotlib inline\n",
    "import seaborn as sns\n",
    "from collections import Counter"
   ]
  },
  {
   "cell_type": "code",
   "execution_count": 2,
   "id": "8e9216d8-3fb8-465a-8b13-f434da44a6d2",
   "metadata": {},
   "outputs": [],
   "source": [
    "restaurants_df= pd.read_csv(r\"C:\\Users\\Shubham\\Downloads\\cognifyz\\Dataset .csv\",encoding= \"unicode_escape\")"
   ]
  },
  {
   "cell_type": "code",
   "execution_count": 6,
   "id": "053c36ff-4705-480d-a0c8-7b263ac27a5e",
   "metadata": {},
   "outputs": [
    {
     "name": "stdout",
     "output_type": "stream",
     "text": [
      "Most Common Cuisine Combinations:\n",
      "('North Indian',): 936\n",
      "('Chinese', 'North Indian'): 616\n",
      "('Mughlai', 'North Indian'): 394\n",
      "('Chinese',): 354\n",
      "('Fast Food',): 354\n",
      "('Chinese', 'Mughlai', 'North Indian'): 306\n",
      "('Cafe',): 299\n",
      "('Bakery',): 218\n",
      "('Bakery', 'Desserts'): 181\n",
      "('Chinese', 'Fast Food'): 159\n"
     ]
    }
   ],
   "source": [
    "cuisine_combinations = restaurants_df['Cuisines'].str.split(', ')\n",
    "cuisine_combinations = cuisine_combinations.dropna()  \n",
    "all_combinations = [tuple(sorted(c)) for c in cuisine_combinations]\n",
    "combination_counts = Counter(all_combinations)\n",
    "most_common_combinations = combination_counts.most_common(10) \n",
    "print(\"Most Common Cuisine Combinations:\")\n",
    "for combination, count in most_common_combinations:\n",
    "    print(f\"{combination}: {count}\")\n",
    "target_combinations = [('North Indian', 'Chinese'), ('Cafe', 'North Indian')]"
   ]
  }
 ],
 "metadata": {
  "kernelspec": {
   "display_name": "Python 3 (ipykernel)",
   "language": "python",
   "name": "python3"
  },
  "language_info": {
   "codemirror_mode": {
    "name": "ipython",
    "version": 3
   },
   "file_extension": ".py",
   "mimetype": "text/x-python",
   "name": "python",
   "nbconvert_exporter": "python",
   "pygments_lexer": "ipython3",
   "version": "3.13.1"
  }
 },
 "nbformat": 4,
 "nbformat_minor": 5
}
