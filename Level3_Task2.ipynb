{
 "cells": [
  {
   "cell_type": "code",
   "execution_count": 1,
   "id": "09201a32-7086-4947-a1ba-7228b71883b2",
   "metadata": {},
   "outputs": [],
   "source": [
    "import numpy as np \n",
    "import pandas as pd\n",
    "import matplotlib.pyplot as plt #visualizing data \n",
    "%matplotlib inline\n",
    "import seaborn as sns"
   ]
  },
  {
   "cell_type": "code",
   "execution_count": 2,
   "id": "9810b56a-4009-4cc9-a35e-dc0df0d180d8",
   "metadata": {},
   "outputs": [],
   "source": [
    "restaurants_df= pd.read_csv(r\"C:\\Users\\Shubham\\Downloads\\cognifyz\\Dataset .csv\",encoding= \"unicode_escape\")"
   ]
  },
  {
   "cell_type": "code",
   "execution_count": 3,
   "id": "b9334f60-ae7f-4686-9c0d-b30a05daf674",
   "metadata": {},
   "outputs": [
    {
     "name": "stdout",
     "output_type": "stream",
     "text": [
      "Restaurant with the highest votes: Toit (10934 votes)\n",
      "Restaurant with the lowest votes: Cantinho da Gula (0 votes)\n",
      "\n",
      "Correlation between votes and rating: 0.31\n"
     ]
    }
   ],
   "source": [
    "highest_votes_restaurant = restaurants_df.loc[restaurants_df['Votes'].idxmax(), 'Restaurant Name']\n",
    "lowest_votes_restaurant = restaurants_df.loc[restaurants_df['Votes'].idxmin(), 'Restaurant Name']\n",
    "print(f\"Restaurant with the highest votes: {highest_votes_restaurant} ({restaurants_df['Votes'].max()} votes)\")\n",
    "print(f\"Restaurant with the lowest votes: {lowest_votes_restaurant} ({restaurants_df['Votes'].min()} votes)\")\n",
    "correlation = restaurants_df['Votes'].corr(restaurants_df['Aggregate rating'])\n",
    "print(f\"\\nCorrelation between votes and rating: {correlation:.2f}\")"
   ]
  }
 ],
 "metadata": {
  "kernelspec": {
   "display_name": "Python 3 (ipykernel)",
   "language": "python",
   "name": "python3"
  },
  "language_info": {
   "codemirror_mode": {
    "name": "ipython",
    "version": 3
   },
   "file_extension": ".py",
   "mimetype": "text/x-python",
   "name": "python",
   "nbconvert_exporter": "python",
   "pygments_lexer": "ipython3",
   "version": "3.13.1"
  }
 },
 "nbformat": 4,
 "nbformat_minor": 5
}
