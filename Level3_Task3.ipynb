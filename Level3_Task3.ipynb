{
 "cells": [
  {
   "cell_type": "code",
   "execution_count": 1,
   "id": "d90d13bb-fc4a-4d56-af2b-abd033cb6a36",
   "metadata": {},
   "outputs": [],
   "source": [
    "import numpy as np \n",
    "import pandas as pd\n",
    "import matplotlib.pyplot as plt #visualizing data \n",
    "%matplotlib inline\n",
    "import seaborn as sns"
   ]
  },
  {
   "cell_type": "code",
   "execution_count": 2,
   "id": "87ff19b5-78ad-41c0-87b8-4d204a1a482f",
   "metadata": {},
   "outputs": [],
   "source": [
    "restaurants_df= pd.read_csv(r\"C:\\Users\\Shubham\\Downloads\\cognifyz\\Dataset .csv\",encoding= \"unicode_escape\")"
   ]
  },
  {
   "cell_type": "code",
   "execution_count": 3,
   "id": "4238f168-b78a-4606-b413-e268d0403b26",
   "metadata": {},
   "outputs": [
    {
     "name": "stdout",
     "output_type": "stream",
     "text": [
      "Online Delivery by Price Range (Percentage):\n",
      "Has Online delivery         No        Yes\n",
      "Price range                              \n",
      "1                    84.225923  15.774077\n",
      "2                    58.689367  41.310633\n",
      "3                    70.809659  29.190341\n",
      "4                    90.955631   9.044369\n",
      "\n",
      "Table Booking by Price Range (Percentage):\n",
      "Has Table booking         No        Yes\n",
      "Price range                            \n",
      "1                  99.977498   0.022502\n",
      "2                  92.322518   7.677482\n",
      "3                  54.261364  45.738636\n",
      "4                  53.242321  46.757679\n"
     ]
    }
   ],
   "source": [
    "delivery_by_price = pd.crosstab(restaurants_df['Price range'], restaurants_df['Has Online delivery'])\n",
    "booking_by_price = pd.crosstab(restaurants_df['Price range'], restaurants_df['Has Table booking'])\n",
    "delivery_percentage = delivery_by_price.div(delivery_by_price.sum(axis=1), axis=0) * 100\n",
    "booking_percentage = booking_by_price.div(booking_by_price.sum(axis=1), axis=0) * 100\n",
    "print(\"Online Delivery by Price Range (Percentage):\")\n",
    "print(delivery_percentage)\n",
    "print(\"\\nTable Booking by Price Range (Percentage):\")\n",
    "print(booking_percentage)"
   ]
  }
 ],
 "metadata": {
  "kernelspec": {
   "display_name": "Python 3 (ipykernel)",
   "language": "python",
   "name": "python3"
  },
  "language_info": {
   "codemirror_mode": {
    "name": "ipython",
    "version": 3
   },
   "file_extension": ".py",
   "mimetype": "text/x-python",
   "name": "python",
   "nbconvert_exporter": "python",
   "pygments_lexer": "ipython3",
   "version": "3.13.1"
  }
 },
 "nbformat": 4,
 "nbformat_minor": 5
}
