{
 "cells": [
  {
   "cell_type": "code",
   "execution_count": 1,
   "id": "b710386e-eb03-4fa0-90a9-b7555741fb1e",
   "metadata": {},
   "outputs": [],
   "source": [
    "import numpy as np \n",
    "import pandas as pd\n",
    "import matplotlib.pyplot as plt #visualizing data \n",
    "%matplotlib inline\n",
    "import seaborn as sns"
   ]
  },
  {
   "cell_type": "code",
   "execution_count": 2,
   "id": "7f64f5d5-b429-42a5-a52e-9d92542e60da",
   "metadata": {},
   "outputs": [],
   "source": [
    "restaurants_df= pd.read_csv(r\"C:\\Users\\Shubham\\Downloads\\cognifyz\\Dataset .csv\",encoding= \"unicode_escape\")"
   ]
  },
  {
   "cell_type": "code",
   "execution_count": 4,
   "id": "837c509b-5740-4a65-b0ab-5ee363818ccf",
   "metadata": {
    "collapsed": true,
    "jupyter": {
     "outputs_hidden": true,
     "source_hidden": true
    }
   },
   "outputs": [
    {
     "name": "stdout",
     "output_type": "stream",
     "text": [
      "Column Names in Dataset: Index(['ï»¿Restaurant ID', 'Restaurant Name', 'Country Code', 'City',\n",
      "       'Address', 'Locality', 'Locality Verbose', 'Longitude', 'Latitude',\n",
      "       'Cuisines', 'Average Cost for two', 'Currency', 'Has Table booking',\n",
      "       'Has Online delivery', 'Is delivering now', 'Switch to order menu',\n",
      "       'Price range', 'Aggregate rating', 'Rating color', 'Rating text',\n",
      "       'Votes'],\n",
      "      dtype='object')\n",
      "No textual review column exists in this dataset. Proceeding with rating analysis only.\n",
      "\n",
      "Basic Rating Statistics:\n",
      "count    9551.000000\n",
      "mean        2.666370\n",
      "std         1.516378\n",
      "min         0.000000\n",
      "25%         2.500000\n",
      "50%         3.200000\n",
      "75%         3.700000\n",
      "max         4.900000\n",
      "Name: Aggregate rating, dtype: float64\n",
      "Correlation between 'Aggregate rating' and 'Votes': 0.31\n",
      "Correlation between 'Aggregate rating' and 'Price range': 0.44\n",
      "Correlation between 'Aggregate rating' and 'Average Cost for two': 0.05\n"
     ]
    }
   ],
   "source": [
    "print(\"Column Names in Dataset:\", restaurants_df.columns)\n",
    "rating_column = 'Aggregate rating'\n",
    "review_column = 'Reviews'\n",
    "\n",
    "if review_column not in restaurants_df.columns:\n",
    "    print(\"No textual review column exists in this dataset. Proceeding with rating analysis only.\")\n",
    "    print(\"\\nBasic Rating Statistics:\")\n",
    "    print(restaurants_df[rating_column].describe())\n",
    "    numerical_columns = ['Votes', 'Price range', 'Average Cost for two']\n",
    "    for column in numerical_columns:\n",
    "        if column in restaurants_df.columns:\n",
    "            correlation = restaurants_df[rating_column].corr(restaurants_df[column])\n",
    "            print(f\"Correlation between '{rating_column}' and '{column}': {correlation:.2f}\")\n",
    "else:\n",
    "    print(\"Analyzing Textual Reviews...\")\n",
    "    dataset = restaurants_df.dropna(subset=[review_column, rating_column])\n",
    "    def process_text(text):\n",
    "        return [word.lower() for word in text.split() if word.lower() not in STOPWORDS]\n",
    "    restaurants_df['Processed_Reviews'] = restaurants_df[review_column].apply(process_text)\n",
    "\n",
    "    # Flatten lists of words for all positive (>=4) and negative (<=2) ratings\n",
    "    positive_words = [word for review in restaurants_df[restaurants_df[rating_column] >= 4]['Processed_Reviews'] for word in review]\n",
    "    negative_words = [word for review in restaurants_df[restaurants_df[rating_column] <= 2]['Processed_Reviews'] for word in review]\n",
    "\n",
    "    # Get most common words\n",
    "    positive_keywords = Counter(positive_words).most_common(10)\n",
    "    negative_keywords = Counter(negative_words).most_common(10)\n",
    "\n",
    "    # Calculate average review length\n",
    "    restaurants_df['Review_Length'] = restaurants_df[review_column].apply(lambda x: len(x.split()))\n",
    "    average_length = dataset['Review_Length'].mean()\n",
    "\n",
    "    # Relationship between review length and rating\n",
    "    length_rating_corr = restaurants_df['Review_Length'].corr(restaurants_df[rating_column])\n",
    "\n",
    "    # Output results\n",
    "    print(\"Most Common Positive Keywords:\", positive_keywords)\n",
    "    print(\"Most Common Negative Keywords:\", negative_keywords)\n",
    "    print(f\"Average Review Length: {average_length:.2f} words\")\n",
    "    print(f\"Correlation between Review Length and Rating: {length_rating_corr:.2f}\")\n",
    "\n",
    "    # Optional: Plot word frequencies (positive and negative)\n",
    "    def plot_word_frequencies(words, title):\n",
    "        word_counts = dict(words)\n",
    "        plt.figure(figsize=(10, 5))\n",
    "        plt.bar(word_counts.keys(), word_counts.values(), color='green' if 'Positive' in title else 'red')\n",
    "        plt.title(title)\n",
    "        plt.ylabel('Frequency')\n",
    "        plt.xlabel('Words')\n",
    "        plt.show()\n",
    "\n",
    "    plot_word_frequencies(positive_keywords, 'Most Common Positive Keywords')\n",
    "    plot_word_frequencies(negative_keywords, 'Most Common Negative Keywords')\n"
   ]
  }
 ],
 "metadata": {
  "kernelspec": {
   "display_name": "Python 3 (ipykernel)",
   "language": "python",
   "name": "python3"
  },
  "language_info": {
   "codemirror_mode": {
    "name": "ipython",
    "version": 3
   },
   "file_extension": ".py",
   "mimetype": "text/x-python",
   "name": "python",
   "nbconvert_exporter": "python",
   "pygments_lexer": "ipython3",
   "version": "3.13.1"
  }
 },
 "nbformat": 4,
 "nbformat_minor": 5
}
